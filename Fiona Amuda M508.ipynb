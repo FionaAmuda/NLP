{
 "cells": [
  {
   "cell_type": "markdown",
   "id": "d6c51cc5-9d47-44c8-98e1-b16aba8e8187",
   "metadata": {},
   "source": [
    "## Big Data : M508A\n",
    "### Final Assessment : Mental Health Text Classification "
   ]
  },
  {
   "cell_type": "markdown",
   "id": "ae2db229-cb65-40a1-8cf2-517ccdbe175a",
   "metadata": {},
   "source": [
    "## 1.Introduction\n",
    "Mental health is increasingly becoming a big issue especially in cooperate environment. Most companies recognise mental health as a real problem and even offer further assistance to their employees. As a data scientist in a software development company, am tasked to design a chatbot application that has been trained to classify a user's statement into 7 classes of mental status e.g. anxiety, stress and suicidal.\n",
    "\n",
    "### 1.1 Problem Statement\n",
    "40% of the mental health incidents could have been detected and prevented early.\n",
    "\n",
    "### 1.2 Proposed Solution \n",
    "With more and more people opting for online therapy, a transformer model used for text classification task could help classify a text into the type of mental health one suffers from. This can be done through training a model from an already classified dataset with examples of text that match the mental health class. A transformer model with a pretrained Bert model could learn the patterns in a sequence of words. With its attention mechanism that uses (key, query and value) when assigning weights, a transformer model would be suitable to pick patterns from the input text that do match the classes with more accuracy as apposed to traditional models like word2vec.\n",
    "\n",
    "### 1.3 Data Collection Process\n",
    "For this project will use publicly available data from Kaggle \n",
    "\n",
    "(https://www.kaggle.com/code/marcosafonso/mental-health-sentiment-analysis/input?select=Combined+Data.csv.) \n",
    "\n",
    "In future the company would be required to do a voluntary lab experiment with a group of people from different areas of the country. They could offer free only therapy consultation and ask the volunteers to consent to their data being used to train an AI model."
   ]
  },
  {
   "cell_type": "markdown",
   "id": "bfc3d2f8-aa16-49d9-a149-0dc8c74fb9a0",
   "metadata": {},
   "source": [
    "## 2. System Design\n",
    "\n",
    "1. Clean and Prepare raw text\n",
    "First step is to Check for any duplicated texts and empty rows, drop these. Use distilbert-base-uncased tokenizer for tokenazation of the text. Set a maximum position embending to pad and trancate the sequence. This ensures that the data being fed in the model as input data is in the format the model can undertsand.\n",
    "\n",
    "\n",
    "\n",
    "2. Model\n",
    "Takes in the input tokens and creates meaningful embadings. Has 6 encoder layers, 12 attention head and suitable for sequence classification tasks. The model encodes the raw text, adds weights using attention mechanisim pass the embeded data to the decoder that translates this to outputs(labels).\n",
    "\n",
    "\n",
    "\n",
    "3. Expected Output\n",
    "That the model uses encoder decoder technique to find and create patterns in that text that will allow proper classification. Maps logits to lables using id2label/label2id. Deccode the token probabilities into text."
   ]
  },
  {
   "cell_type": "markdown",
   "id": "6448b8e4-e217-43a8-abd8-e5b4580b2314",
   "metadata": {},
   "source": [
    "## 3. Dataset Exploration \n",
    "The dataset contains text from over 50,000 users, the statements are classified into 7 categories/labels of the mental health identified e.g. anxiety, depression etc. The dataset has a few empty rows and duplicated text that I will remove before splitting the input data. Input data will be split into training, validation and test set. There is an imbalance in the dataset, the label with the most rows is Normal with 16,000 rows and the label with the list is personality disorder with 1200 for this response I will engineer the label allocation and allocate 1000 rows for each label. This reduces the possibility of the model learning very well one label and not the rest."
   ]
  },
  {
   "cell_type": "code",
   "execution_count": 203,
   "id": "22f5b677-0352-4c27-b85f-07b12975e8a4",
   "metadata": {},
   "outputs": [],
   "source": [
    "import pandas as pd\n",
    "import numpy as np\n",
    "import matplotlib.pyplot as plt\n",
    "import seaborn as sns\n",
    "from sklearn.model_selection import train_test_split\n",
    "from sklearn.metrics import accuracy_score, classification_report\n",
    "from transformers import BertTokenizer, BertForSequenceClassification, AdamW\n",
    "from transformers import AutoTokenizer, AutoModelForSequenceClassification\n",
    "from torch.utils.data import DataLoader, Dataset\n",
    "import torch\n",
    "import torch.nn as nn"
   ]
  },
  {
   "cell_type": "markdown",
   "id": "3d7b4f73-89d9-4e58-b4cb-da81e2a94d4d",
   "metadata": {},
   "source": [
    "### 3.1 Initiate CUDA \n",
    "To utilize my PC NVIDIA GPU."
   ]
  },
  {
   "cell_type": "code",
   "execution_count": 205,
   "id": "c6017fe2-ea7f-4856-9125-2b52a6fa6914",
   "metadata": {},
   "outputs": [],
   "source": [
    "device = torch.device(\"cuda\" if torch.cuda.is_available() else \"cpu\")"
   ]
  },
  {
   "cell_type": "markdown",
   "id": "dbff445f-fea7-494e-ab4a-4b58085de2d8",
   "metadata": {},
   "source": [
    "### 3.2 Load and sample the dataset"
   ]
  },
  {
   "cell_type": "code",
   "execution_count": 207,
   "id": "799ce154-20c0-4549-8688-7dd0c64f8bb6",
   "metadata": {},
   "outputs": [
    {
     "data": {
      "text/html": [
       "<div>\n",
       "<style scoped>\n",
       "    .dataframe tbody tr th:only-of-type {\n",
       "        vertical-align: middle;\n",
       "    }\n",
       "\n",
       "    .dataframe tbody tr th {\n",
       "        vertical-align: top;\n",
       "    }\n",
       "\n",
       "    .dataframe thead th {\n",
       "        text-align: right;\n",
       "    }\n",
       "</style>\n",
       "<table border=\"1\" class=\"dataframe\">\n",
       "  <thead>\n",
       "    <tr style=\"text-align: right;\">\n",
       "      <th></th>\n",
       "      <th>Unnamed: 0</th>\n",
       "      <th>statement</th>\n",
       "      <th>status</th>\n",
       "    </tr>\n",
       "  </thead>\n",
       "  <tbody>\n",
       "    <tr>\n",
       "      <th>9189</th>\n",
       "      <td>9189</td>\n",
       "      <td>Chronic Depression. I am at this nihilistic po...</td>\n",
       "      <td>Suicidal</td>\n",
       "    </tr>\n",
       "    <tr>\n",
       "      <th>31382</th>\n",
       "      <td>31382</td>\n",
       "      <td>bluedog123 is just the street. you have to giv...</td>\n",
       "      <td>Normal</td>\n",
       "    </tr>\n",
       "    <tr>\n",
       "      <th>3729</th>\n",
       "      <td>3729</td>\n",
       "      <td>look again it's 71 not 7l âœ‹ðŸ »</td>\n",
       "      <td>Normal</td>\n",
       "    </tr>\n",
       "    <tr>\n",
       "      <th>34626</th>\n",
       "      <td>34626</td>\n",
       "      <td>Terrified of a brain bleed... This sounds so r...</td>\n",
       "      <td>Anxiety</td>\n",
       "    </tr>\n",
       "    <tr>\n",
       "      <th>9589</th>\n",
       "      <td>9589</td>\n",
       "      <td>No idea where my life is going. Feeling depres...</td>\n",
       "      <td>Depression</td>\n",
       "    </tr>\n",
       "  </tbody>\n",
       "</table>\n",
       "</div>"
      ],
      "text/plain": [
       "       Unnamed: 0                                          statement  \\\n",
       "9189         9189  Chronic Depression. I am at this nihilistic po...   \n",
       "31382       31382  bluedog123 is just the street. you have to giv...   \n",
       "3729         3729                  look again it's 71 not 7l âœ‹ðŸ »   \n",
       "34626       34626  Terrified of a brain bleed... This sounds so r...   \n",
       "9589         9589  No idea where my life is going. Feeling depres...   \n",
       "\n",
       "           status  \n",
       "9189     Suicidal  \n",
       "31382      Normal  \n",
       "3729       Normal  \n",
       "34626     Anxiety  \n",
       "9589   Depression  "
      ]
     },
     "execution_count": 207,
     "metadata": {},
     "output_type": "execute_result"
    }
   ],
   "source": [
    "df = pd.read_csv(\"Mental Health.csv\")\n",
    "df.sample(5)"
   ]
  },
  {
   "cell_type": "markdown",
   "id": "2a7b0c74-d26b-41d2-8aa1-ffbe90150303",
   "metadata": {},
   "source": [
    "### 3.3 Check shape of the data"
   ]
  },
  {
   "cell_type": "code",
   "execution_count": 209,
   "id": "f2b3c250-c19b-493a-990d-d1cfd9ceaae3",
   "metadata": {},
   "outputs": [
    {
     "data": {
      "text/plain": [
       "(53043, 3)"
      ]
     },
     "execution_count": 209,
     "metadata": {},
     "output_type": "execute_result"
    }
   ],
   "source": [
    "df.shape"
   ]
  },
  {
   "cell_type": "markdown",
   "id": "31c57978-7a9d-43b2-aa51-91918e743041",
   "metadata": {},
   "source": [
    "### 3.4 Check for empty rows"
   ]
  },
  {
   "cell_type": "code",
   "execution_count": 211,
   "id": "ee286a12-50fe-471c-adc5-647e026b6aff",
   "metadata": {},
   "outputs": [
    {
     "data": {
      "text/plain": [
       "Unnamed: 0      0\n",
       "statement     362\n",
       "status          0\n",
       "dtype: int64"
      ]
     },
     "execution_count": 211,
     "metadata": {},
     "output_type": "execute_result"
    }
   ],
   "source": [
    "df.isna().sum()"
   ]
  },
  {
   "cell_type": "markdown",
   "id": "955221f6-65c2-498d-b3b9-aea63f62330e",
   "metadata": {},
   "source": [
    "### 3.5 Checking data distribution"
   ]
  },
  {
   "cell_type": "code",
   "execution_count": 213,
   "id": "7fbd8605-79a3-4db1-b543-76f914efd2a2",
   "metadata": {},
   "outputs": [
    {
     "data": {
      "text/plain": [
       "status\n",
       "Normal                  16351\n",
       "Depression              15404\n",
       "Suicidal                10653\n",
       "Anxiety                  3888\n",
       "Bipolar                  2877\n",
       "Stress                   2669\n",
       "Personality disorder     1201\n",
       "Name: count, dtype: int64"
      ]
     },
     "execution_count": 213,
     "metadata": {},
     "output_type": "execute_result"
    }
   ],
   "source": [
    "df['status'].value_counts()"
   ]
  },
  {
   "cell_type": "markdown",
   "id": "b7d1f111-3b9d-48b2-b845-7401548e08e1",
   "metadata": {},
   "source": [
    "## 4. Data Cleaning and Feature Engineering\n",
    "### 4.1 Drop columns and rows\n",
    "Dropped the unnamed column to reduce data noise, there are no important information in this column. Dropped the empty column as they will introduce unnecessary noise. Dropped the duplicated data as it will reduces the opportunity of the model to learn from new data."
   ]
  },
  {
   "cell_type": "code",
   "execution_count": 215,
   "id": "c0f244aa-f036-49fb-ac51-3ef69005175a",
   "metadata": {},
   "outputs": [],
   "source": [
    "df.drop(['Unnamed: 0'], axis=1, inplace=True)"
   ]
  },
  {
   "cell_type": "code",
   "execution_count": 217,
   "id": "6e320644-6e30-4fc1-a8bf-5077fe4070f1",
   "metadata": {},
   "outputs": [],
   "source": [
    "df.dropna(inplace=True)"
   ]
  },
  {
   "cell_type": "code",
   "execution_count": 219,
   "id": "45586d9c-34cd-4955-853d-9cb66ba64213",
   "metadata": {},
   "outputs": [
    {
     "data": {
      "text/plain": [
       "1588"
      ]
     },
     "execution_count": 219,
     "metadata": {},
     "output_type": "execute_result"
    }
   ],
   "source": [
    "df.duplicated().sum()"
   ]
  },
  {
   "cell_type": "code",
   "execution_count": 221,
   "id": "25ed496e-64d9-4f4c-a2a3-315e66d0e65c",
   "metadata": {},
   "outputs": [],
   "source": [
    "df.drop_duplicates(inplace=True)"
   ]
  },
  {
   "cell_type": "markdown",
   "id": "d31f7a62-0f33-4110-aa8c-f59c78758e23",
   "metadata": {},
   "source": [
    "### 4.2 Equal label distribution"
   ]
  },
  {
   "cell_type": "code",
   "execution_count": 225,
   "id": "10690d16-d0cf-437f-9a37-d164a1595380",
   "metadata": {},
   "outputs": [
    {
     "name": "stdout",
     "output_type": "stream",
     "text": [
      "status\n",
      "Suicidal                1000\n",
      "Depression              1000\n",
      "Anxiety                 1000\n",
      "Personality disorder    1000\n",
      "Normal                  1000\n",
      "Stress                  1000\n",
      "Bipolar                 1000\n",
      "Name: count, dtype: int64\n"
     ]
    }
   ],
   "source": [
    "desired_count = 1000\n",
    "df = pd.concat([group.sample(n=desired_count, random_state=42, replace=len(group) < desired_count)for _, group in df.groupby('status')])\n",
    "df = df.sample(frac=1, random_state=42).reset_index(drop=True)\n",
    "print(df['status'].value_counts())"
   ]
  },
  {
   "cell_type": "code",
   "execution_count": 227,
   "id": "ce565220-5730-47ee-a420-0238a4a48f62",
   "metadata": {},
   "outputs": [
    {
     "data": {
      "image/png": "[encoded data removed]",
      "text/plain": [
       "<Figure size 600x400 with 1 Axes>"
      ]
     },
     "metadata": {},
     "output_type": "display_data"
    }
   ],
   "source": [
    "axis = df['status'].value_counts().sort_index().plot(kind='bar',title='Status Count',figsize=(6,4),color='green')"
   ]
  },
  {
   "cell_type": "markdown",
   "id": "cf5c7c38-c8fa-4d68-9d9b-617befb0ddbd",
   "metadata": {},
   "source": [
    "## 5. Splitting Dataset\n",
    "The labels will be the 7 statuses from the status column and the text to be analysed as input features from the statement column. Allocating equal data to test and validation set. Using random state to split the rows randomly and in no order. The original csv file had the labels in order hence why this part is important to reduce any biases."
   ]
  },
  {
   "cell_type": "code",
   "execution_count": 229,
   "id": "236f4007-d734-4d82-a6ee-13b1ef46bd26",
   "metadata": {},
   "outputs": [],
   "source": [
    "texts = df['statement']\n",
    "labels = df['status']"
   ]
  },
  {
   "cell_type": "code",
   "execution_count": 231,
   "id": "5a9167da-529d-48a0-b82f-45aad649d9b4",
   "metadata": {},
   "outputs": [],
   "source": [
    "label_mapping = {label: idx for idx, label in enumerate(labels.unique())}\n",
    "labels = labels.map(label_mapping).values"
   ]
  },
  {
   "cell_type": "code",
   "execution_count": 233,
   "id": "466f651a-7cf3-40d5-b07e-ca4ab50d85cf",
   "metadata": {},
   "outputs": [
    {
     "name": "stdout",
     "output_type": "stream",
     "text": [
      "4\n"
     ]
    }
   ],
   "source": [
    "print(labels[90])"
   ]
  },
  {
   "cell_type": "code",
   "execution_count": 235,
   "id": "5fbafcff-1ebd-4c23-b2e6-8235e1e57c4f",
   "metadata": {},
   "outputs": [
    {
     "name": "stdout",
     "output_type": "stream",
     "text": [
      "Train size: 4200\n",
      "Validation size: 1400\n",
      "Test size: 1400\n"
     ]
    }
   ],
   "source": [
    "train_texts, test_texts, train_labels, test_labels = train_test_split(texts, labels, test_size=0.2, random_state=42)\n",
    "train_texts, val_texts, train_labels, val_labels = train_test_split(train_texts, train_labels, test_size=0.25, random_state=42)\n",
    "print(f\"Train size: {len(train_texts)}\")\n",
    "print(f\"Validation size: {len(val_texts)}\")\n",
    "print(f\"Test size: {len(test_texts)}\")"
   ]
  },
  {
   "cell_type": "markdown",
   "id": "3d8d7dc5-621d-4ac5-bfb1-fae35d648bfc",
   "metadata": {},
   "source": [
    "### 6. Tokenizer Exploration\n",
    "The auto tokenizer assigned distilberttokenizerfast, i used auto tokenizer from hugging face to enhance the tokenizer assignment so that its only the most compatible tokenizer that is assigned to the model. I used index 6999 as a sample input text to explore the tokenizer."
   ]
  },
  {
   "cell_type": "code",
   "execution_count": 237,
   "id": "ce0e8a73-68c6-43d6-8a66-9a541a40bcec",
   "metadata": {},
   "outputs": [
    {
     "name": "stdout",
     "output_type": "stream",
     "text": [
      "Tokenizer class: DistilBertTokenizerFast\n"
     ]
    }
   ],
   "source": [
    "tokenizer = AutoTokenizer.from_pretrained('distilbert-base-uncased')\n",
    "print(f\"Tokenizer class: {tokenizer.__class__.__name__}\")"
   ]
  },
  {
   "cell_type": "code",
   "execution_count": 239,
   "id": "42b0bfa1-8102-4249-a138-a98587f8e609",
   "metadata": {},
   "outputs": [
    {
     "name": "stdout",
     "output_type": "stream",
     "text": [
      "Cold Sores How bad that is?\n"
     ]
    }
   ],
   "source": [
    "sample = df['statement'][6999]\n",
    "print(sample)"
   ]
  },
  {
   "cell_type": "code",
   "execution_count": 241,
   "id": "89d23454-42ce-43a1-b537-8ce5736eedd6",
   "metadata": {},
   "outputs": [
    {
     "name": "stdout",
     "output_type": "stream",
     "text": [
      "['cold', 'sore', '##s', 'how', 'bad', 'that', 'is', '?']\n"
     ]
    }
   ],
   "source": [
    "tokens_with_words = tokenizer.tokenize(sample)\n",
    "print(tokens_with_words)"
   ]
  },
  {
   "cell_type": "code",
   "execution_count": 243,
   "id": "03194633-b0c1-4d73-8ed4-3ceab31c3aea",
   "metadata": {},
   "outputs": [
    {
     "name": "stdout",
     "output_type": "stream",
     "text": [
      "[101, 3147, 14699, 2015, 2129, 2919, 2008, 2003, 1029, 102]\n"
     ]
    }
   ],
   "source": [
    "tokens = tokenizer.encode(sample)\n",
    "print(tokens)"
   ]
  },
  {
   "cell_type": "code",
   "execution_count": 245,
   "id": "ad5697aa-d458-443e-b556-d8161e57a23d",
   "metadata": {},
   "outputs": [
    {
     "name": "stdout",
     "output_type": "stream",
     "text": [
      "Special tokens: {'unk_token': '[UNK]', 'sep_token': '[SEP]', 'pad_token': '[PAD]', 'cls_token': '[CLS]', 'mask_token': '[MASK]'}\n"
     ]
    }
   ],
   "source": [
    "print(f\"Special tokens: {tokenizer.special_tokens_map}\")"
   ]
  },
  {
   "cell_type": "code",
   "execution_count": 247,
   "id": "9826e456-af61-4e1c-9870-5d9d9d7fdcac",
   "metadata": {},
   "outputs": [
    {
     "name": "stdout",
     "output_type": "stream",
     "text": [
      "Token ID: 101, Token: [CLS]\n",
      "Token ID: 3147, Token: cold\n",
      "Token ID: 14699, Token: sore\n",
      "Token ID: 2015, Token: ##s\n",
      "Token ID: 2129, Token: how\n",
      "Token ID: 2919, Token: bad\n",
      "Token ID: 2008, Token: that\n",
      "Token ID: 2003, Token: is\n",
      "Token ID: 1029, Token: ?\n",
      "Token ID: 102, Token: [SEP]\n"
     ]
    }
   ],
   "source": [
    "for token_id in tokens:\n",
    "    print(f\"Token ID: {token_id}, Token: {tokenizer.convert_ids_to_tokens([token_id])[0]}\")"
   ]
  },
  {
   "cell_type": "code",
   "execution_count": 249,
   "id": "5ebb30c4-58c6-4631-8c18-820bec0c1f79",
   "metadata": {},
   "outputs": [
    {
     "name": "stdout",
     "output_type": "stream",
     "text": [
      "Number of tokens: 10\n"
     ]
    }
   ],
   "source": [
    "print(f\"Number of tokens: {len(tokens)}\")"
   ]
  },
  {
   "cell_type": "code",
   "execution_count": 251,
   "id": "ab0e5940-0054-4bb8-acc3-2f80539ddfcb",
   "metadata": {},
   "outputs": [
    {
     "name": "stdout",
     "output_type": "stream",
     "text": [
      "tensor([[  101,  3147, 14699,  2015,  2129,  2919,  2008,  2003,  1029,   102]])\n"
     ]
    }
   ],
   "source": [
    "inputs = torch.tensor(tokens).unsqueeze(0)\n",
    "print(inputs)"
   ]
  },
  {
   "cell_type": "markdown",
   "id": "45131f75-c5b1-4226-8b44-ca5014398684",
   "metadata": {},
   "source": [
    "### 7. Model Exploration\n",
    "The model used is DistilBertForSequenceClassification, with GELU(Gaussian Error Linear Unit) as the activation function. It has a vector representation of dim:768 and a feed forward network with a capacity of 3072 (hidden_dim). There 12 attention heads, 6 encoder layers and drop-out set at 0.1. Used the sample index to explore the features of the model, like how different words pay attention to each other in a sequence. The data frame shows the percentages, and the heat map shows the colour coding on how the tokens are paying attention to each other. For both the examples I have looked at the attention on layer 1."
   ]
  },
  {
   "cell_type": "code",
   "execution_count": 254,
   "id": "14bd393b-414e-48ae-928e-7aa270d1dc0a",
   "metadata": {},
   "outputs": [
    {
     "name": "stderr",
     "output_type": "stream",
     "text": [
      "Some weights of DistilBertForSequenceClassification were not initialized from the model checkpoint at distilbert-base-uncased and are newly initialized: ['classifier.bias', 'classifier.weight', 'pre_classifier.bias', 'pre_classifier.weight']\n",
      "You should probably TRAIN this model on a down-stream task to be able to use it for predictions and inference.\n"
     ]
    },
    {
     "name": "stdout",
     "output_type": "stream",
     "text": [
      "Model class: DistilBertForSequenceClassification\n",
      "Model configuration: DistilBertConfig {\n",
      "  \"_attn_implementation_autoset\": true,\n",
      "  \"_name_or_path\": \"distilbert-base-uncased\",\n",
      "  \"activation\": \"gelu\",\n",
      "  \"architectures\": [\n",
      "    \"DistilBertForMaskedLM\"\n",
      "  ],\n",
      "  \"attention_dropout\": 0.1,\n",
      "  \"dim\": 768,\n",
      "  \"dropout\": 0.1,\n",
      "  \"hidden_dim\": 3072,\n",
      "  \"id2label\": {\n",
      "    \"0\": \"LABEL_0\",\n",
      "    \"1\": \"LABEL_1\",\n",
      "    \"2\": \"LABEL_2\",\n",
      "    \"3\": \"LABEL_3\",\n",
      "    \"4\": \"LABEL_4\",\n",
      "    \"5\": \"LABEL_5\",\n",
      "    \"6\": \"LABEL_6\"\n",
      "  },\n",
      "  \"initializer_range\": 0.02,\n",
      "  \"label2id\": {\n",
      "    \"LABEL_0\": 0,\n",
      "    \"LABEL_1\": 1,\n",
      "    \"LABEL_2\": 2,\n",
      "    \"LABEL_3\": 3,\n",
      "    \"LABEL_4\": 4,\n",
      "    \"LABEL_5\": 5,\n",
      "    \"LABEL_6\": 6\n",
      "  },\n",
      "  \"max_position_embeddings\": 512,\n",
      "  \"model_type\": \"distilbert\",\n",
      "  \"n_heads\": 12,\n",
      "  \"n_layers\": 6,\n",
      "  \"output_attentions\": true,\n",
      "  \"pad_token_id\": 0,\n",
      "  \"qa_dropout\": 0.1,\n",
      "  \"seq_classif_dropout\": 0.2,\n",
      "  \"sinusoidal_pos_embds\": false,\n",
      "  \"tie_weights_\": true,\n",
      "  \"transformers_version\": \"4.47.0\",\n",
      "  \"vocab_size\": 30522\n",
      "}\n",
      "\n"
     ]
    }
   ],
   "source": [
    "model = AutoModelForSequenceClassification.from_pretrained('distilbert-base-uncased', num_labels=len(label_mapping), output_attentions=True)\n",
    "model.to(device)\n",
    "print(f\"Model class: {model.__class__.__name__}\")\n",
    "print(f\"Model configuration: {model.config}\")"
   ]
  },
  {
   "cell_type": "code",
   "execution_count": 256,
   "id": "2bf465fd-3ccb-4120-8a9f-48d2827fbfbb",
   "metadata": {},
   "outputs": [],
   "source": [
    "inputs = tokenizer(sample, return_tensors=\"pt\")\n",
    "outputs = model(**inputs)\n",
    "attention_weights = outputs.attentions[0]"
   ]
  },
  {
   "cell_type": "code",
   "execution_count": 258,
   "id": "ed42ff7f-6d1f-408c-8eb5-d18ff74a820d",
   "metadata": {},
   "outputs": [
    {
     "data": {
      "text/html": [
       "<div>\n",
       "<style scoped>\n",
       "    .dataframe tbody tr th:only-of-type {\n",
       "        vertical-align: middle;\n",
       "    }\n",
       "\n",
       "    .dataframe tbody tr th {\n",
       "        vertical-align: top;\n",
       "    }\n",
       "\n",
       "    .dataframe thead th {\n",
       "        text-align: right;\n",
       "    }\n",
       "</style>\n",
       "<table border=\"1\" class=\"dataframe\">\n",
       "  <thead>\n",
       "    <tr style=\"text-align: right;\">\n",
       "      <th></th>\n",
       "      <th>cold</th>\n",
       "      <th>sore</th>\n",
       "      <th>##s</th>\n",
       "      <th>how</th>\n",
       "      <th>bad</th>\n",
       "      <th>that</th>\n",
       "      <th>is</th>\n",
       "      <th>?</th>\n",
       "    </tr>\n",
       "  </thead>\n",
       "  <tbody>\n",
       "    <tr>\n",
       "      <th>cold</th>\n",
       "      <td>0.061</td>\n",
       "      <td>0.075</td>\n",
       "      <td>0.089</td>\n",
       "      <td>0.096</td>\n",
       "      <td>0.047</td>\n",
       "      <td>0.093</td>\n",
       "      <td>0.140</td>\n",
       "      <td>0.050</td>\n",
       "    </tr>\n",
       "    <tr>\n",
       "      <th>sore</th>\n",
       "      <td>0.134</td>\n",
       "      <td>0.048</td>\n",
       "      <td>0.060</td>\n",
       "      <td>0.048</td>\n",
       "      <td>0.066</td>\n",
       "      <td>0.162</td>\n",
       "      <td>0.084</td>\n",
       "      <td>0.097</td>\n",
       "    </tr>\n",
       "    <tr>\n",
       "      <th>##s</th>\n",
       "      <td>0.076</td>\n",
       "      <td>0.146</td>\n",
       "      <td>0.100</td>\n",
       "      <td>0.064</td>\n",
       "      <td>0.070</td>\n",
       "      <td>0.131</td>\n",
       "      <td>0.072</td>\n",
       "      <td>0.070</td>\n",
       "    </tr>\n",
       "    <tr>\n",
       "      <th>how</th>\n",
       "      <td>0.133</td>\n",
       "      <td>0.131</td>\n",
       "      <td>0.145</td>\n",
       "      <td>0.024</td>\n",
       "      <td>0.142</td>\n",
       "      <td>0.126</td>\n",
       "      <td>0.042</td>\n",
       "      <td>0.039</td>\n",
       "    </tr>\n",
       "    <tr>\n",
       "      <th>bad</th>\n",
       "      <td>0.264</td>\n",
       "      <td>0.062</td>\n",
       "      <td>0.047</td>\n",
       "      <td>0.036</td>\n",
       "      <td>0.042</td>\n",
       "      <td>0.102</td>\n",
       "      <td>0.147</td>\n",
       "      <td>0.105</td>\n",
       "    </tr>\n",
       "    <tr>\n",
       "      <th>that</th>\n",
       "      <td>0.254</td>\n",
       "      <td>0.133</td>\n",
       "      <td>0.179</td>\n",
       "      <td>0.023</td>\n",
       "      <td>0.067</td>\n",
       "      <td>0.101</td>\n",
       "      <td>0.042</td>\n",
       "      <td>0.053</td>\n",
       "    </tr>\n",
       "    <tr>\n",
       "      <th>is</th>\n",
       "      <td>0.217</td>\n",
       "      <td>0.040</td>\n",
       "      <td>0.041</td>\n",
       "      <td>0.050</td>\n",
       "      <td>0.100</td>\n",
       "      <td>0.060</td>\n",
       "      <td>0.137</td>\n",
       "      <td>0.086</td>\n",
       "    </tr>\n",
       "    <tr>\n",
       "      <th>?</th>\n",
       "      <td>0.246</td>\n",
       "      <td>0.071</td>\n",
       "      <td>0.060</td>\n",
       "      <td>0.044</td>\n",
       "      <td>0.154</td>\n",
       "      <td>0.066</td>\n",
       "      <td>0.075</td>\n",
       "      <td>0.025</td>\n",
       "    </tr>\n",
       "  </tbody>\n",
       "</table>\n",
       "</div>"
      ],
      "text/plain": [
       "       cold   sore    ##s    how    bad   that     is      ?\n",
       "cold  0.061  0.075  0.089  0.096  0.047  0.093  0.140  0.050\n",
       "sore  0.134  0.048  0.060  0.048  0.066  0.162  0.084  0.097\n",
       "##s   0.076  0.146  0.100  0.064  0.070  0.131  0.072  0.070\n",
       "how   0.133  0.131  0.145  0.024  0.142  0.126  0.042  0.039\n",
       "bad   0.264  0.062  0.047  0.036  0.042  0.102  0.147  0.105\n",
       "that  0.254  0.133  0.179  0.023  0.067  0.101  0.042  0.053\n",
       "is    0.217  0.040  0.041  0.050  0.100  0.060  0.137  0.086\n",
       "?     0.246  0.071  0.060  0.044  0.154  0.066  0.075  0.025"
      ]
     },
     "execution_count": 258,
     "metadata": {},
     "output_type": "execute_result"
    }
   ],
   "source": [
    "first_head = attention_weights[0, 0].detach()\n",
    "attention_df = pd.DataFrame(first_head.numpy()).map(float).round(3)\n",
    "tokens = tokenizer.convert_ids_to_tokens(inputs['input_ids'][0])\n",
    "tokens_no_special = [token for token in tokens if token not in tokenizer.all_special_tokens]\n",
    "\n",
    "if len(tokens_no_special) < attention_df.shape[0]:\n",
    "    attention_df = attention_df.iloc[:len(tokens_no_special), :len(tokens_no_special)]\n",
    "\n",
    "attention_df.columns = tokens_no_special\n",
    "attention_df.index = tokens_no_special\n",
    "attention_df"
   ]
  },
  {
   "cell_type": "code",
   "execution_count": 260,
   "id": "736fb450-96de-47ce-81e4-b1000e37f77c",
   "metadata": {},
   "outputs": [
    {
     "data": {
      "image/png": "[encoded data removed]",
      "text/plain": [
       "<Figure size 1000x800 with 2 Axes>"
      ]
     },
     "metadata": {},
     "output_type": "display_data"
    }
   ],
   "source": [
    "attention = outputs.attentions[0]\n",
    "\n",
    "tokens_as_list = tokenizer.convert_ids_to_tokens(inputs['input_ids'][0])\n",
    "\n",
    "first_head = attention[0, 0].detach().numpy() \n",
    "\n",
    "plt.figure(figsize=(10, 8))\n",
    "sns.heatmap(first_head, xticklabels=tokens_as_list, yticklabels=tokens_as_list, cmap='viridis', annot=False)\n",
    "plt.title(\"Attention Visualization (First Layer, First Head)\")\n",
    "plt.xlabel(\"Tokens\")\n",
    "plt.ylabel(\"Tokens\")\n",
    "plt.show()"
   ]
  },
  {
   "cell_type": "markdown",
   "id": "49584751-da7c-4b53-a6ad-ebcd805b0fa4",
   "metadata": {},
   "source": [
    "## 8. Data preparation and Tokenization \n",
    "Transforming each text into IDs and attention mask. This custom class prepares and tokenize text data before its fed as input in a model. Its also associates each text with the corresponding label. "
   ]
  },
  {
   "cell_type": "code",
   "execution_count": 262,
   "id": "d893dbe1-d175-463f-aed8-c8752db1f268",
   "metadata": {},
   "outputs": [],
   "source": [
    "class MentalHealthDataset(Dataset):\n",
    "    def __init__(self, texts, labels, tokenizer, max_len=128):\n",
    "        self.texts = texts\n",
    "        self.labels = labels\n",
    "        self.tokenizer = tokenizer\n",
    "        self.max_len = max_len\n",
    "\n",
    "    def __len__(self):\n",
    "        return len(self.texts)\n",
    "\n",
    "    def __getitem__(self, index):\n",
    "        text = self.texts[index]\n",
    "        label = self.labels[index]\n",
    "\n",
    "        encoding = self.tokenizer(\n",
    "            text,\n",
    "            truncation=True,\n",
    "            padding='max_length',\n",
    "            max_length=self.max_len,\n",
    "            return_tensors='pt'\n",
    "        )\n",
    "\n",
    "        return {\n",
    "            'input_ids': encoding['input_ids'].squeeze(0),\n",
    "            'attention_mask': encoding['attention_mask'].squeeze(0),\n",
    "            'label': torch.tensor(label, dtype=torch.long)\n",
    "        }"
   ]
  },
  {
   "cell_type": "code",
   "execution_count": 264,
   "id": "7f0caefb-2fb8-4de3-9bdb-f8c958b621ac",
   "metadata": {},
   "outputs": [],
   "source": [
    "train_dataset = MentalHealthDataset(train_texts.tolist(), train_labels, tokenizer)\n",
    "val_dataset = MentalHealthDataset(val_texts.tolist(), val_labels, tokenizer)\n",
    "test_dataset = MentalHealthDataset(test_texts.tolist(), test_labels, tokenizer)"
   ]
  },
  {
   "cell_type": "code",
   "execution_count": 266,
   "id": "4e0d3b71-f052-4285-91de-b60f6154ffc0",
   "metadata": {},
   "outputs": [],
   "source": [
    "train_loader = DataLoader(train_dataset, batch_size=16, shuffle=True)\n",
    "val_loader = DataLoader(val_dataset, batch_size=16)\n",
    "test_loader = DataLoader(test_dataset, batch_size=16)"
   ]
  },
  {
   "cell_type": "markdown",
   "id": "0c15a39e-132a-41f8-9f98-e1c886595b2a",
   "metadata": {},
   "source": [
    "### 9. Training and Evaluation\n",
    "The model performs quite well overall. Doing well in classes 2, 4 and 6. Struggles more with class 0 and 1. A training loss of 1.0592 indicates there is room for improvement. A training and validation accuracy of 77% indicates the model is generalizing the data quite well, no issues with overfitting or underfitting. The other metrices aside from accuracy scores vary from class to class, indicating room for improvement.\n"
   ]
  },
  {
   "cell_type": "code",
   "execution_count": 268,
   "id": "a10c32e6-3b30-4ca2-b8a8-9d36c70a4130",
   "metadata": {},
   "outputs": [
    {
     "name": "stderr",
     "output_type": "stream",
     "text": [
      "C:\\Users\\Fifi\\anaconda3\\Lib\\site-packages\\transformers\\optimization.py:591: FutureWarning: This implementation of AdamW is deprecated and will be removed in a future version. Use the PyTorch implementation torch.optim.AdamW instead, or set `no_deprecation_warning=True` to disable this warning\n",
      "  warnings.warn(\n"
     ]
    }
   ],
   "source": [
    "optimizer = AdamW(model.parameters(), lr=5e-5)\n",
    "criterion = nn.CrossEntropyLoss()\n",
    "\n",
    "def train_epoch(model, data_loader, optimizer, criterion):\n",
    "    model.train()\n",
    "    total_loss = 0\n",
    "    for batch in data_loader:\n",
    "        input_ids = batch['input_ids'].to(device)\n",
    "        attention_mask = batch['attention_mask'].to(device)\n",
    "        labels = batch['label'].to(device)\n",
    "\n",
    "        optimizer.zero_grad()\n",
    "        outputs = model(input_ids, attention_mask=attention_mask, labels=labels)\n",
    "        loss = outputs.loss\n",
    "        loss.backward()\n",
    "        optimizer.step()\n",
    "\n",
    "        total_loss += loss.item()\n",
    "    return total_loss / len(data_loader)"
   ]
  },
  {
   "cell_type": "code",
   "execution_count": 270,
   "id": "aa47ea62-1784-4210-ad22-bfee744b7ee8",
   "metadata": {},
   "outputs": [],
   "source": [
    "def evaluate(model, data_loader):\n",
    "    model.eval()\n",
    "    predictions, true_labels = [], []\n",
    "    with torch.no_grad():\n",
    "        for batch in data_loader:\n",
    "            input_ids = batch['input_ids'].to(device)\n",
    "            attention_mask = batch['attention_mask'].to(device)\n",
    "            labels = batch['label'].to(device)\n",
    "\n",
    "            outputs = model(input_ids, attention_mask=attention_mask)\n",
    "            logits = outputs.logits\n",
    "            preds = torch.argmax(logits, dim=1).cpu().numpy()\n",
    "            labels = labels.cpu().numpy()\n",
    "\n",
    "            predictions.extend(preds)\n",
    "            true_labels.extend(labels)\n",
    "    return accuracy_score(true_labels, predictions), classification_report(true_labels, predictions)"
   ]
  },
  {
   "cell_type": "code",
   "execution_count": 272,
   "id": "370723ed-ffb1-43af-a155-25bf066cbb35",
   "metadata": {},
   "outputs": [
    {
     "name": "stdout",
     "output_type": "stream",
     "text": [
      "Epoch 1/3\n",
      "Train Loss: 1.0592\n",
      "Validation Accuracy: 0.7671\n",
      "              precision    recall  f1-score   support\n",
      "\n",
      "           0       0.70      0.66      0.68       204\n",
      "           1       0.61      0.64      0.63       180\n",
      "           2       0.86      0.79      0.83       213\n",
      "           3       0.74      0.90      0.81       186\n",
      "           4       0.93      0.82      0.87       199\n",
      "           5       0.67      0.78      0.72       193\n",
      "           6       0.88      0.77      0.82       225\n",
      "\n",
      "    accuracy                           0.77      1400\n",
      "   macro avg       0.77      0.77      0.77      1400\n",
      "weighted avg       0.78      0.77      0.77      1400\n",
      "\n",
      "Epoch 2/3\n",
      "Train Loss: 0.5438\n",
      "Validation Accuracy: 0.7543\n",
      "              precision    recall  f1-score   support\n",
      "\n",
      "           0       0.68      0.65      0.66       204\n",
      "           1       0.51      0.71      0.59       180\n",
      "           2       0.87      0.78      0.82       213\n",
      "           3       0.73      0.91      0.81       186\n",
      "           4       0.94      0.82      0.88       199\n",
      "           5       0.72      0.73      0.72       193\n",
      "           6       0.96      0.70      0.81       225\n",
      "\n",
      "    accuracy                           0.75      1400\n",
      "   macro avg       0.77      0.76      0.76      1400\n",
      "weighted avg       0.78      0.75      0.76      1400\n",
      "\n",
      "Epoch 3/3\n",
      "Train Loss: 0.3222\n",
      "Validation Accuracy: 0.7857\n",
      "              precision    recall  f1-score   support\n",
      "\n",
      "           0       0.66      0.81      0.73       204\n",
      "           1       0.71      0.50      0.59       180\n",
      "           2       0.86      0.81      0.83       213\n",
      "           3       0.76      0.95      0.84       186\n",
      "           4       0.93      0.84      0.88       199\n",
      "           5       0.70      0.78      0.74       193\n",
      "           6       0.92      0.80      0.85       225\n",
      "\n",
      "    accuracy                           0.79      1400\n",
      "   macro avg       0.79      0.78      0.78      1400\n",
      "weighted avg       0.79      0.79      0.78      1400\n",
      "\n"
     ]
    }
   ],
   "source": [
    "epochs = 3\n",
    "for epoch in range(epochs):\n",
    "    train_loss = train_epoch(model, train_loader, optimizer, criterion)\n",
    "    val_acc, val_report = evaluate(model, val_loader)\n",
    "    print(f\"Epoch {epoch + 1}/{epochs}\")\n",
    "    print(f\"Train Loss: {train_loss:.4f}\")\n",
    "    print(f\"Validation Accuracy: {val_acc:.4f}\")\n",
    "    print(val_report)"
   ]
  },
  {
   "cell_type": "markdown",
   "id": "f51138b2-7dcd-485d-93b0-d0ece45fb112",
   "metadata": {},
   "source": [
    "## 10. Testing\n",
    "The model can correctly predict 8 out of 10 samples given the test accuracy of 79%. "
   ]
  },
  {
   "cell_type": "code",
   "execution_count": 275,
   "id": "d3b1fa83-cab6-4280-96a3-c23c327f4a95",
   "metadata": {},
   "outputs": [
    {
     "name": "stdout",
     "output_type": "stream",
     "text": [
      "\n",
      "Test Set Evaluation\n",
      "Test Accuracy: 0.7900\n",
      "              precision    recall  f1-score   support\n",
      "\n",
      "           0       0.68      0.81      0.74       220\n",
      "           1       0.74      0.52      0.61       201\n",
      "           2       0.84      0.81      0.83       199\n",
      "           3       0.78      0.94      0.85       190\n",
      "           4       0.90      0.88      0.89       183\n",
      "           5       0.73      0.80      0.76       204\n",
      "           6       0.91      0.78      0.84       203\n",
      "\n",
      "    accuracy                           0.79      1400\n",
      "   macro avg       0.80      0.79      0.79      1400\n",
      "weighted avg       0.80      0.79      0.79      1400\n",
      "\n"
     ]
    }
   ],
   "source": [
    "test_acc, test_report = evaluate(model, test_loader)\n",
    "print(\"\\nTest Set Evaluation\")\n",
    "print(f\"Test Accuracy: {test_acc:.4f}\")\n",
    "print(test_report)"
   ]
  },
  {
   "cell_type": "markdown",
   "id": "6f925c5b-efa8-4c6f-b7b8-4a1243f66d60",
   "metadata": {},
   "source": [
    "## 11. Conclusion\n",
    "The sample data could be increased to improve the model's performance. For this project i selected 1000 rows for each label to cater for the training time on a computer with limited processing power. The model could be implemented in a chat bot application for use in future if trained with more data. The performance could be higher with more epochs and data, if processed in a powerful computer. The model demonstrates reliable performance and performs well generally."
   ]
  }
 ],
 "metadata": {
  "kernelspec": {
   "display_name": "Python 3 (ipykernel)",
   "language": "python",
   "name": "python3"
  },
  "language_info": {
   "codemirror_mode": {
    "name": "ipython",
    "version": 3
   },
   "file_extension": ".py",
   "mimetype": "text/x-python",
   "name": "python",
   "nbconvert_exporter": "python",
   "pygments_lexer": "ipython3",
   "version": "3.12.7"
  }
 },
 "nbformat": 4,
 "nbformat_minor": 5
}
